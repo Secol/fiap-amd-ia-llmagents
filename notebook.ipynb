{
 "cells": [
  {
   "cell_type": "markdown",
   "metadata": {},
   "source": [
    "# Laboratório: Construindo um Agente\n",
    "\n",
    "Neste notebook, exploraremos como criar um agente inteligente que é capaz de realizar operações matemáticas básicas. O agente utilizará o modelo GPT-4o da OpenAI e será equipado com ferramentas para adição, subtração, multiplicação e divisão."
   ]
  },
  {
   "cell_type": "code",
   "execution_count": null,
   "metadata": {},
   "outputs": [],
   "source": [
    "import os\n",
    "from dotenv import load_dotenv\n",
    "\n",
    "from langchain_openai import ChatOpenAI\n",
    "from langchain.prompts import ChatPromptTemplate, MessagesPlaceholder\n",
    "from langchain.agents.openai_functions_agent.base import create_openai_functions_agent\n",
    "from langchain.agents.agent import AgentExecutor\n",
    "\n",
    "from langchain.tools import BaseTool\n",
    "from typing import Type, Any\n",
    "from pydantic import BaseModel, Field"
   ]
  },
  {
   "cell_type": "markdown",
   "metadata": {},
   "source": [
    "## Configuração do Ambiente\n",
    "\n",
    "Carregamos as variáveis de ambiente do arquivo .env, que deve conter a chave da API da OpenAI."
   ]
  },
  {
   "cell_type": "code",
   "execution_count": 2,
   "metadata": {},
   "outputs": [
    {
     "data": {
      "text/plain": [
       "True"
      ]
     },
     "execution_count": 2,
     "metadata": {},
     "output_type": "execute_result"
    }
   ],
   "source": [
    "load_dotenv()"
   ]
  },
  {
   "cell_type": "markdown",
   "metadata": {},
   "source": [
    "## Definição das Ferramentas Matemáticas\n",
    "\n",
    "Aqui, definimos as quatro operações matemáticas básicas como ferramentas que nosso agente poderá utilizar:\n",
    "\n",
    "1. **AdditionTool**: Para somar dois números\n",
    "2. **SubtractionTool**: Para subtrair um número de outro\n",
    "3. **MultiplicationTool**: Para multiplicar dois números\n",
    "4. **DivisionTool**: Para dividir um número por outro (com verificação de divisão por zero)\n",
    "\n",
    "Cada ferramenta utiliza o schema `CalculatorInput` para validar seus parâmetros de entrada."
   ]
  },
  {
   "cell_type": "code",
   "execution_count": 3,
   "metadata": {},
   "outputs": [],
   "source": [
    "class CalculatorInput(BaseModel):\n",
    "    a: float = Field(..., description=\"Primeiro número para a operação\")\n",
    "    b: float = Field(..., description=\"Segundo número para a operação\")\n",
    "\n",
    "class AdditionTool(BaseTool):\n",
    "    name: str = \"addition\"\n",
    "    description: str = \"Útil para somar dois números.\"\n",
    "    args_schema: Type[BaseModel] = CalculatorInput\n",
    "    \n",
    "    def _run(self, a: float, b: float) -> float:\n",
    "        \"\"\"Soma dois números.\"\"\"\n",
    "        return a + b\n",
    "\n",
    "class SubtractionTool(BaseTool):\n",
    "    name: str = \"subtraction\"\n",
    "    description: str = \"Útil para subtrair um número de outro.\"\n",
    "    args_schema: Type[BaseModel] = CalculatorInput\n",
    "    \n",
    "    def _run(self, a: float, b: float) -> float:\n",
    "        \"\"\"Subtrai b de a.\"\"\"\n",
    "        return a - b\n",
    "\n",
    "class MultiplicationTool(BaseTool):\n",
    "    name: str = \"multiplication\"\n",
    "    description: str = \"Útil para multiplicar dois números.\"\n",
    "    args_schema: Type[BaseModel] = CalculatorInput\n",
    "    \n",
    "    def _run(self, a: float, b: float) -> float:\n",
    "        \"\"\"Multiplica dois números.\"\"\"\n",
    "        return a * b\n",
    "\n",
    "class DivisionTool(BaseTool):\n",
    "    name: str = \"division\"\n",
    "    description: str = \"Útil para dividir um número por outro. Retorna erro se o divisor for zero.\"\n",
    "    args_schema: Type[BaseModel] = CalculatorInput\n",
    "    \n",
    "    def _run(self, a: float, b: float) -> float:\n",
    "        \"\"\"Divide a por b.\"\"\"\n",
    "        if b == 0:\n",
    "            raise ZeroDivisionError(\"Não é possível dividir por zero\")\n",
    "        return a / b"
   ]
  },
  {
   "cell_type": "markdown",
   "metadata": {},
   "source": [
    "## Criação do Agente Matemático\n",
    "\n",
    "A função `create_math_agent()` configura um agente LangChain que:\n",
    "\n",
    "1. Utiliza as ferramentas matemáticas definidas anteriormente\n",
    "2. Configura o modelo de linguagem GPT-4o como base\n",
    "3. Define um prompt específico que orienta o modelo a atuar como um assistente matemático\n",
    "4. Cria um executor de agente com configurações para verbosidade e tratamento de erros"
   ]
  },
  {
   "cell_type": "code",
   "execution_count": null,
   "metadata": {},
   "outputs": [],
   "source": [
    "def create_math_agent():\n",
    "    tools = [\n",
    "        AdditionTool(),\n",
    "        SubtractionTool(),\n",
    "        MultiplicationTool(),\n",
    "        DivisionTool()\n",
    "    ]\n",
    "    \n",
    "    llm = ChatOpenAI(\n",
    "        temperature=0,\n",
    "        model=\"gpt-4o\",\n",
    "        api_key=os.getenv(\"OPENAI_API_KEY\")\n",
    "    )\n",
    "\n",
    "    prompt = ChatPromptTemplate.from_messages([\n",
    "        (\"system\", \"\"\"Você é um assistente matemático especializado em resolver problemas passo a passo.\n",
    "        Analise cuidadosamente cada problema e use a ferramenta mais apropriada para resolvê-lo.\n",
    "        Explique seu raciocínio de forma clara e detalhada para ajudar o usuário a entender a solução.\n",
    "        \"\"\"),\n",
    "        (\"human\", \"{input}\"),\n",
    "        MessagesPlaceholder(variable_name=\"agent_scratchpad\"),\n",
    "    ])\n",
    "    \n",
    "    agent = create_openai_functions_agent(\n",
    "        llm=llm,\n",
    "        tools=tools,\n",
    "        prompt=prompt\n",
    "    )\n",
    "    \n",
    "    agent_executor = AgentExecutor(\n",
    "        agent=agent,\n",
    "        tools=tools,\n",
    "        verbose=True,\n",
    "        max_iterations=5,\n",
    "        handle_parsing_errors=True\n",
    "    )\n",
    "    \n",
    "    return agent_executor"
   ]
  },
  {
   "cell_type": "markdown",
   "metadata": {},
   "source": [
    "## Instanciação do Agente\n",
    "\n",
    "Vamos criar uma instância do agente matemático."
   ]
  },
  {
   "cell_type": "code",
   "execution_count": 21,
   "metadata": {},
   "outputs": [],
   "source": [
    "agent = create_math_agent()"
   ]
  },
  {
   "cell_type": "markdown",
   "metadata": {},
   "source": [
    "## Exemplos de Uso do Agente\n",
    "\n",
    "Abaixo, testaremos o agente com diferentes tipos de problemas matemáticos.\n",
    "\n",
    "### Exemplo 1: Divisão\n",
    "\n",
    "Vamos testar a capacidade do agente de realizar divisões."
   ]
  },
  {
   "cell_type": "code",
   "execution_count": 22,
   "metadata": {},
   "outputs": [
    {
     "name": "stdout",
     "output_type": "stream",
     "text": [
      "\n",
      "\n",
      "\u001b[1m> Entering new AgentExecutor chain...\u001b[0m\n",
      "\u001b[32;1m\u001b[1;3m\n",
      "Invoking: `division` with `{'a': 144, 'b': 12}`\n",
      "\n",
      "\n",
      "\u001b[0m\u001b[36;1m\u001b[1;3m12.0\u001b[0m\u001b[32;1m\u001b[1;3mO resultado da divisão de 144 por 12 é 12.\u001b[0m\n",
      "\n",
      "\u001b[1m> Finished chain.\u001b[0m\n",
      "Response:  {'input': 'Se eu dividir 144 por 12, qual é o resultado?', 'output': 'O resultado da divisão de 144 por 12 é 12.'}\n"
     ]
    }
   ],
   "source": [
    "response = agent.invoke({\"input\": \"Se eu dividir 144 por 12, qual é o resultado?\"})\n",
    "print(\"Response: \", response)"
   ]
  },
  {
   "cell_type": "markdown",
   "metadata": {},
   "source": [
    "### Exemplo 2: Adição\n",
    "\n",
    "Vamos testar a capacidade do agente de realizar somas."
   ]
  },
  {
   "cell_type": "code",
   "execution_count": 23,
   "metadata": {},
   "outputs": [
    {
     "name": "stdout",
     "output_type": "stream",
     "text": [
      "\n",
      "\n",
      "\u001b[1m> Entering new AgentExecutor chain...\u001b[0m\n",
      "\u001b[32;1m\u001b[1;3m\n",
      "Invoking: `addition` with `{'a': 15, 'b': 27}`\n",
      "\n",
      "\n",
      "\u001b[0m\u001b[36;1m\u001b[1;3m42.0\u001b[0m\u001b[32;1m\u001b[1;3mO resultado de \\(15 + 27\\) é 42.\u001b[0m\n",
      "\n",
      "\u001b[1m> Finished chain.\u001b[0m\n",
      "Response:  {'input': 'Qual é o resultado de 15 + 27?', 'output': 'O resultado de \\\\(15 + 27\\\\) é 42.'}\n"
     ]
    }
   ],
   "source": [
    "response = agent.invoke({\"input\": \"Qual é o resultado de 15 + 27?\"})\n",
    "print(\"Response: \", response)"
   ]
  },
  {
   "cell_type": "markdown",
   "metadata": {},
   "source": [
    "### Exemplo 3: Subtração em Contexto\n",
    "\n",
    "Vamos testar a capacidade do agente de entender problemas de subtração em contexto."
   ]
  },
  {
   "cell_type": "code",
   "execution_count": 24,
   "metadata": {},
   "outputs": [
    {
     "name": "stdout",
     "output_type": "stream",
     "text": [
      "\n",
      "\n",
      "\u001b[1m> Entering new AgentExecutor chain...\u001b[0m\n",
      "\u001b[32;1m\u001b[1;3m\n",
      "Invoking: `subtraction` with `{'a': 100, 'b': 35}`\n",
      "\n",
      "\n",
      "\u001b[0m\u001b[33;1m\u001b[1;3m65.0\u001b[0m\u001b[32;1m\u001b[1;3mSe você tem 100 e gasta 35, restam 65.\u001b[0m\n",
      "\n",
      "\u001b[1m> Finished chain.\u001b[0m\n",
      "Response:  {'input': 'Se eu tenho 100 e gasto 35, quanto me resta?', 'output': 'Se você tem 100 e gasta 35, restam 65.'}\n"
     ]
    }
   ],
   "source": [
    "response = agent.invoke({\"input\": \"Se eu tenho 100 e gasto 35, quanto me resta?\"})\n",
    "print(\"Response: \", response)"
   ]
  },
  {
   "cell_type": "markdown",
   "metadata": {},
   "source": [
    "### Exemplo 4: Multiplicação\n",
    "\n",
    "Vamos testar a capacidade do agente de realizar multiplicações."
   ]
  },
  {
   "cell_type": "code",
   "execution_count": 25,
   "metadata": {},
   "outputs": [
    {
     "name": "stdout",
     "output_type": "stream",
     "text": [
      "\n",
      "\n",
      "\u001b[1m> Entering new AgentExecutor chain...\u001b[0m\n",
      "\u001b[32;1m\u001b[1;3m\n",
      "Invoking: `multiplication` with `{'a': 12, 'b': 8}`\n",
      "\n",
      "\n",
      "\u001b[0m\u001b[38;5;200m\u001b[1;3m96.0\u001b[0m\u001b[32;1m\u001b[1;3mO produto de 12 e 8 é 96.\u001b[0m\n",
      "\n",
      "\u001b[1m> Finished chain.\u001b[0m\n",
      "Response:  {'input': 'Qual é o produto de 12 e 8?', 'output': 'O produto de 12 e 8 é 96.'}\n"
     ]
    }
   ],
   "source": [
    "response = agent.invoke({\"input\": \"Qual é o produto de 12 e 8?\"})\n",
    "print(\"Response: \", response)"
   ]
  },
  {
   "cell_type": "markdown",
   "metadata": {},
   "source": [
    "### Exemplo 5: Expressão com Ordem de Operações\n",
    "\n",
    "Este exemplo testa como o agente lida com expressões que envolvem a ordem das operações matemáticas."
   ]
  },
  {
   "cell_type": "code",
   "execution_count": 26,
   "metadata": {},
   "outputs": [
    {
     "name": "stdout",
     "output_type": "stream",
     "text": [
      "\n",
      "\n",
      "\u001b[1m> Entering new AgentExecutor chain...\u001b[0m\n",
      "\u001b[32;1m\u001b[1;3mPara resolver a expressão \\(2 + 3 \\times 4\\), devemos seguir a ordem das operações matemáticas, que é:\n",
      "\n",
      "1. Parênteses\n",
      "2. Expoentes\n",
      "3. Multiplicação e Divisão (da esquerda para a direita)\n",
      "4. Adição e Subtração (da esquerda para a direita)\n",
      "\n",
      "Na expressão dada, temos uma multiplicação e uma adição. De acordo com a ordem das operações, devemos realizar a multiplicação antes da adição.\n",
      "\n",
      "Primeiro, calculamos \\(3 \\times 4\\):\n",
      "\n",
      "\\[3 \\times 4 = 12\\]\n",
      "\n",
      "Agora, substituímos o resultado na expressão original:\n",
      "\n",
      "\\[2 + 12\\]\n",
      "\n",
      "Por fim, realizamos a adição:\n",
      "\n",
      "\\[2 + 12 = 14\\]\n",
      "\n",
      "Portanto, o resultado da expressão \\(2 + 3 \\times 4\\) é 14.\u001b[0m\n",
      "\n",
      "\u001b[1m> Finished chain.\u001b[0m\n",
      "Response:  {'input': 'Resolva 2 + 3 * 4', 'output': 'Para resolver a expressão \\\\(2 + 3 \\\\times 4\\\\), devemos seguir a ordem das operações matemáticas, que é:\\n\\n1. Parênteses\\n2. Expoentes\\n3. Multiplicação e Divisão (da esquerda para a direita)\\n4. Adição e Subtração (da esquerda para a direita)\\n\\nNa expressão dada, temos uma multiplicação e uma adição. De acordo com a ordem das operações, devemos realizar a multiplicação antes da adição.\\n\\nPrimeiro, calculamos \\\\(3 \\\\times 4\\\\):\\n\\n\\\\[3 \\\\times 4 = 12\\\\]\\n\\nAgora, substituímos o resultado na expressão original:\\n\\n\\\\[2 + 12\\\\]\\n\\nPor fim, realizamos a adição:\\n\\n\\\\[2 + 12 = 14\\\\]\\n\\nPortanto, o resultado da expressão \\\\(2 + 3 \\\\times 4\\\\) é 14.'}\n"
     ]
    }
   ],
   "source": [
    "response = agent.invoke({\"input\": \"Resolva 2 + 3 * 4\"})\n",
    "print(\"Response: \", response)"
   ]
  },
  {
   "cell_type": "code",
   "execution_count": 27,
   "metadata": {},
   "outputs": [
    {
     "name": "stdout",
     "output_type": "stream",
     "text": [
      "\n",
      "\n",
      "\u001b[1m> Entering new AgentExecutor chain...\u001b[0m\n",
      "\u001b[32;1m\u001b[1;3m\n",
      "Invoking: `addition` with `{'a': 32, 'b': 97}`\n",
      "\n",
      "\n",
      "\u001b[0m\u001b[36;1m\u001b[1;3m129.0\u001b[0m\u001b[32;1m\u001b[1;3m\n",
      "Invoking: `multiplication` with `{'a': 129, 'b': 12}`\n",
      "\n",
      "\n",
      "\u001b[0m\u001b[38;5;200m\u001b[1;3m1548.0\u001b[0m\u001b[32;1m\u001b[1;3m\n",
      "Invoking: `division` with `{'a': 1548, 'b': 4}`\n",
      "\n",
      "\n",
      "\u001b[0m\u001b[36;1m\u001b[1;3m387.0\u001b[0m\u001b[32;1m\u001b[1;3m\n",
      "Invoking: `subtraction` with `{'a': 387, 'b': 10}`\n",
      "\n",
      "\n",
      "\u001b[0m\u001b[33;1m\u001b[1;3m377.0\u001b[0m\u001b[32;1m\u001b[1;3mVamos resolver a operação passo a passo:\n",
      "\n",
      "1. Some 32 com 97:\n",
      "   \\[\n",
      "   32 + 97 = 129\n",
      "   \\]\n",
      "\n",
      "2. Multiplique o resultado por 12:\n",
      "   \\[\n",
      "   129 \\times 12 = 1548\n",
      "   \\]\n",
      "\n",
      "3. Divida o resultado por 4:\n",
      "   \\[\n",
      "   \\frac{1548}{4} = 387\n",
      "   \\]\n",
      "\n",
      "4. Subtraia 10 do resultado:\n",
      "   \\[\n",
      "   387 - 10 = 377\n",
      "   \\]\n",
      "\n",
      "Portanto, o resultado final da operação é 377.\u001b[0m\n",
      "\n",
      "\u001b[1m> Finished chain.\u001b[0m\n",
      "Response:  {'input': 'Resolva a operação matemática: Some 32 com 97 e depois multiplique por 12, faça a divisão do resultado por 4 e subtraia 10', 'output': 'Vamos resolver a operação passo a passo:\\n\\n1. Some 32 com 97:\\n   \\\\[\\n   32 + 97 = 129\\n   \\\\]\\n\\n2. Multiplique o resultado por 12:\\n   \\\\[\\n   129 \\\\times 12 = 1548\\n   \\\\]\\n\\n3. Divida o resultado por 4:\\n   \\\\[\\n   \\\\frac{1548}{4} = 387\\n   \\\\]\\n\\n4. Subtraia 10 do resultado:\\n   \\\\[\\n   387 - 10 = 377\\n   \\\\]\\n\\nPortanto, o resultado final da operação é 377.'}\n"
     ]
    }
   ],
   "source": [
    "response = agent.invoke({\"input\": \"Resolva a operação matemática: Some 32 com 97 e depois multiplique por 12, faça a divisão do resultado por 4 e subtraia 10\"})\n",
    "print(\"Response: \", response)"
   ]
  },
  {
   "cell_type": "markdown",
   "metadata": {},
   "source": [
    "## Conclusão\n",
    "\n",
    "Neste laboratório, construímos um agente matemático capaz de:\n",
    "\n",
    "1. Entender problemas matemáticos em linguagem natural\n",
    "2. Selecionar a ferramenta apropriada para cada operação\n",
    "3. Executar cálculos com precisão\n",
    "4. Fornecer explicações detalhadas dos passos realizados\n",
    "\n",
    "O agente demonstra como os modelos de linguagem podem ser aprimorados com ferramentas específicas para realizar tarefas estruturadas e seguir regras matemáticas corretamente."
   ]
  }
 ],
 "metadata": {
  "kernelspec": {
   "display_name": "Python 3",
   "language": "python",
   "name": "python3"
  },
  "language_info": {
   "codemirror_mode": {
    "name": "ipython",
    "version": 3
   },
   "file_extension": ".py",
   "mimetype": "text/x-python",
   "name": "python",
   "nbconvert_exporter": "python",
   "pygments_lexer": "ipython3",
   "version": "3.12.3"
  }
 },
 "nbformat": 4,
 "nbformat_minor": 2
}
